{
 "cells": [
  {
   "cell_type": "code",
   "execution_count": 53,
   "metadata": {
    "collapsed": false
   },
   "outputs": [
    {
     "name": "stdout",
     "output_type": "stream",
     "text": [
      "Populating the interactive namespace from numpy and matplotlib\n"
     ]
    },
    {
     "name": "stderr",
     "output_type": "stream",
     "text": [
      "WARNING: pylab import has clobbered these variables: ['imread', 'inf']\n",
      "`%matplotlib` prevents importing * from pylab and numpy\n"
     ]
    }
   ],
   "source": [
    "from __future__ import print_function\n",
    "__author__ = 'mo'\n",
    "import pylab as pl\n",
    "import numpy as np\n",
    "%pylab inline\n",
    "\n",
    "import matplotlib.pyplot as plt\n",
    "%matplotlib inline\n",
    "\n",
    "import pandas as pd\n",
    "import geopandas as gp\n",
    "import json\n",
    "\n",
    "import sklearn.cluster\n",
    "from sklearn import mixture\n",
    "from PIL import Image\n",
    "from scipy.misc import imread\n",
    "from scipy.cluster.vq import kmeans2"
   ]
  },
  {
   "cell_type": "code",
   "execution_count": 69,
   "metadata": {
    "collapsed": true
   },
   "outputs": [],
   "source": [
    "kelly_colors_hex = [\n",
    "    '#FFB300', # Vivid Yellow\n",
    "    '#803E75', # Strong Purple\n",
    "    '#FF6800', # Vivid Orange\n",
    "    '#A6BDD7', # Very Light Blue\n",
    "    '#C10020', # Vivid Red\n",
    "    '#CEA262', # Grayish Yellow\n",
    "    '#817066', # Medium Gray\n",
    "    '#007D34', # Vivid Green\n",
    "    '#F6768E', # Strong Purplish Pink\n",
    "    '#00538A', # Strong Blue\n",
    "    '#FF7A5C', # Strong Yellowish Pink\n",
    "    '#53377A', # Strong Violet\n",
    "    '#FF8E00', # Vivid Orange Yellow\n",
    "    '#B32851', # Strong Purplish Red\n",
    "    '#F4C800', # Vivid Greenish Yellow\n",
    "    '#7F180D', # Strong Reddish Brown\n",
    "    '#93AA00', # Vivid Yellowish Green\n",
    "    '#593315', # Deep Yellowish Brown\n",
    "    '#F13A13', # Vivid Reddish Orange\n",
    "    '#232C16', # Dark Olive Green\n",
    "    ]"
   ]
  },
  {
   "cell_type": "code",
   "execution_count": 45,
   "metadata": {
    "collapsed": false
   },
   "outputs": [
    {
     "name": "stdout",
     "output_type": "stream",
     "text": [
      "/Users/mariaortiz/PUI2015_mortiz/\n"
     ]
    }
   ],
   "source": [
    "import os\n",
    "print (os.environ['PUI2015'])\n",
    "#\"HOME\" in os.environ"
   ]
  },
  {
   "cell_type": "code",
   "execution_count": 15,
   "metadata": {
    "collapsed": false
   },
   "outputs": [
    {
     "data": {
      "text/plain": [
       "Index([u'ciudad', u'clave', u'estado',\n",
       "       u'Tasa homicidios Por cada cien mil habitantes',\n",
       "       u'Robo de mercancias: Pesos 2012 por cada millon de pesos de PIB',\n",
       "       u'safetyperception', u'mtCO2e',\n",
       "       u'Proporcion del area del municipio con acuiferos sobreexplotados',\n",
       "       u'waterpc', u'cap tratamiento de agua l/s por cada 1,000 hab',\n",
       "       u'indice, \\rValores de 0-3, en funcion a si mide, publica datos y tiene un Proaire',\n",
       "       u'goodtrash', u'Aprovecha biogas Si=1, No=0', u'fuelpergdp',\n",
       "       u'rend academico �% de alumnos de educacion basica y media superior en niveles Bueno y Excelente en Matematicas de prueba ENLACE',\n",
       "       u'% de escuelas excelentes dentro del municipio',\n",
       "       u'mortalidad diabetes Por cada 10 mil habitantes',\n",
       "       u'mort infantil Decesos de menores de un a�o por cada mil nacidos vivos',\n",
       "       u'Por cada 10 mil habitantes', u'acceso inst salud % de la PEA',\n",
       "       u'crec accesso salud Tasa de cambio (%) entre 2008 y 2012',\n",
       "       u' crec pob calificada Tasa de cambio (%) entre 2008 y 2012',\n",
       "       u'viviendas drenaje Por cada 100 viviendas habitadas',\n",
       "       u'Viv piso tierra Por cada 100 viviendas habitadas',\n",
       "       u'Vic deshabitads Por cada 100 viviendas',\n",
       "       u'personas dejaboj linea de bienestar % PEA',\n",
       "       u'Desigualdad en ciudades Coeficiente de Gini salarial (menos es mejor)',\n",
       "       u'Mujeres en la PEA como % del total de mujeres en edad laboral',\n",
       "       u'Por cada 100 mil habitantes', u'inf', u'percentemployedformal',\n",
       "       u'crecimiento empleos sector formal Tasa de cambio (%) entre 2008 y 2012',\n",
       "       u'citygrowth', u'popdensity', u'minwage',\n",
       "       u'Productividad media del trabajo Miles de pesos de 2012 por trabajador (descontando el efecto del sector minero)',\n",
       "       u'pob ocupada sin ingresos % poblacion ocupada',\n",
       "       u'crecimiento pob ocupada sin ingresos Tasa de cambio (%) entre 2008 y 2012',\n",
       "       u'sectores con crecimiento % PIB en sectores que crecen a una tasa de crecimiento superior al promedio',\n",
       "       u'stategdpchange', u'wagechange', u'% de la PEA',\n",
       "       u'viviendas con telefono moviles % de viviendas habitadas',\n",
       "       u'viviendas con compu % de viviendas habitadas',\n",
       "       u'Twits por hora por cada mil habitantes',\n",
       "       u'muertes rel con transporte Por cada 100 mil habitantes',\n",
       "       u'sitema transporte masivo Dummy\\r(0=no hay, 1=aprobado proy ejecutivo (BANOBRAS), 2=en construccion (o <250 mil hab), 3=listo)\\r',\n",
       "       u'uso servicio fin Por adultos',\n",
       "       u'accesso servicio fin Por cada 10,000 adultos',\n",
       "       u'FDI Dolaes per capita (promedio 3 a�os)',\n",
       "       u'cd frontera o pueblo Dummy (0=ninguna, 1=puerto, 2=frontera)',\n",
       "       u'firmsper1000pea', u'population'],\n",
       "      dtype='object')"
      ]
     },
     "execution_count": 15,
     "metadata": {},
     "output_type": "execute_result"
    }
   ],
   "source": [
    "#imco = pd.read_csv(os.getenv('$PUI2015')+'/ExtraCredit/imcodata2.csv')\n",
    "imco = pd.read_csv('/Users/mariaortiz/PUI2015/CA_Final/imcodata2.csv')\n",
    "imco.columns\n"
   ]
  },
  {
   "cell_type": "code",
   "execution_count": 11,
   "metadata": {
    "collapsed": false
   },
   "outputs": [],
   "source": [
    "#imco.describe()"
   ]
  },
  {
   "cell_type": "code",
   "execution_count": 25,
   "metadata": {
    "collapsed": false
   },
   "outputs": [],
   "source": [
    "#creating df for variables I want to look \n",
    "imcoenv = imco[['ciudad', 'mtCO2e', 'waterpc', 'goodtrash', 'fuelpergdp', 'citygrowth', 'popdensity', 'population']]"
   ]
  },
  {
   "cell_type": "code",
   "execution_count": 46,
   "metadata": {
    "collapsed": true
   },
   "outputs": [],
   "source": [
    "inf = imco['inf']\n",
    "citygrowth = imco['citygrowth']\n",
    "popden = imco['popdensity']\n",
    "eleccons = imco['fuelpergdp']\n",
    "waterpc = imco['waterpc']\n",
    "pop = imco['population']\n",
    "cityindex = imco['ciudad']\n",
    "trash = imco['goodtrash']\n",
    "co2 = imco['mtCO2e']"
   ]
  },
  {
   "cell_type": "code",
   "execution_count": 29,
   "metadata": {
    "collapsed": false
   },
   "outputs": [],
   "source": [
    "#imcoenv"
   ]
  },
  {
   "cell_type": "code",
   "execution_count": null,
   "metadata": {
    "collapsed": false
   },
   "outputs": [],
   "source": []
  },
  {
   "cell_type": "code",
   "execution_count": 47,
   "metadata": {
    "collapsed": false
   },
   "outputs": [
    {
     "data": {
      "text/plain": [
       "<matplotlib.legend.Legend at 0x10e218990>"
      ]
     },
     "execution_count": 47,
     "metadata": {},
     "output_type": "execute_result"
    },
    {
     "data": {
      "image/png": "[encoded data removed]",
      "text/plain": [
       "<matplotlib.figure.Figure at 0x10dd36d10>"
      ]
     },
     "metadata": {},
     "output_type": "display_data"
    }
   ],
   "source": [
    "#looking at relationship with population\n",
    "\n",
    "fig = pl.figure(figsize=(20,20))\n",
    "\n",
    "pl.subplot(3,2,1)\n",
    "pl.loglog(pop, citygrowth, '.')\n",
    "pl.xlabel('Population', fontsize=17)\n",
    "pl.ylabel('Growth of city area (in people)', fontsize=17)\n",
    "#pl.legend(loc = 0, fontsize = 10)\n",
    "#ax.setaxlim(0, 2000000)\n",
    "\n",
    "pl.subplot(3,2,2)\n",
    "pl.loglog(pop, popden, '.')\n",
    "pl.xlabel('Population', fontsize=17)\n",
    "pl.ylabel('Population density', fontsize=17)\n",
    "pl.legend(loc = 0, fontsize = 10)\n",
    "\n",
    "pl.subplot(3,2,3)\n",
    "pl.loglog(pop, co2, '.')\n",
    "pl.xlabel('Population', fontsize=17)\n",
    "pl.ylabel('Co2 emissions (million tons CO2 equivalent)', fontsize=17)\n",
    "pl.legend(loc = 0, fontsize = 10)\n",
    "\n",
    "pl.subplot(3,2,4)\n",
    "pl.loglog(pop, eleccons, '.')\n",
    "pl.xlabel('Population', fontsize=17)\n",
    "pl.ylabel('Fuel consumption (m3) per million of GDP', fontsize=17)\n",
    "pl.legend(loc = 0, fontsize = 10)\n",
    "\n",
    "pl.subplot(3,2,5)\n",
    "pl.loglog(pop, waterpc, '.')\n",
    "pl.xlabel('Population', fontsize=17)\n",
    "pl.ylabel('Water consumption per capita in m3', fontsize=17)\n",
    "pl.legend(loc = 0, fontsize = 10)\n",
    "\n",
    "pl.subplot(3,2,6)\n",
    "pl.loglog(pop, trash, '.')\n",
    "pl.xlabel('Population', fontsize=17)\n",
    "pl.ylabel('Adequate residue disposal', fontsize=17)\n",
    "pl.legend(loc = 0, fontsize = 10)"
   ]
  },
  {
   "cell_type": "code",
   "execution_count": null,
   "metadata": {
    "collapsed": true
   },
   "outputs": [],
   "source": []
  },
  {
   "cell_type": "code",
   "execution_count": null,
   "metadata": {
    "collapsed": true
   },
   "outputs": [],
   "source": []
  },
  {
   "cell_type": "code",
   "execution_count": 48,
   "metadata": {
    "collapsed": false
   },
   "outputs": [
    {
     "data": {
      "text/html": [
       "<div>\n",
       "<table border=\"1\" class=\"dataframe\">\n",
       "  <thead>\n",
       "    <tr style=\"text-align: right;\">\n",
       "      <th></th>\n",
       "      <th>ciudad</th>\n",
       "      <th>mtCO2e</th>\n",
       "      <th>waterpc</th>\n",
       "      <th>goodtrash</th>\n",
       "      <th>fuelpergdp</th>\n",
       "      <th>citygrowth</th>\n",
       "      <th>popdensity</th>\n",
       "      <th>population</th>\n",
       "    </tr>\n",
       "  </thead>\n",
       "  <tbody>\n",
       "    <tr>\n",
       "      <th>0</th>\n",
       "      <td>Aguascalientes</td>\n",
       "      <td>3.33</td>\n",
       "      <td>103.385094</td>\n",
       "      <td>1.000000</td>\n",
       "      <td>4.187821</td>\n",
       "      <td>1.117441</td>\n",
       "      <td>9562.758974</td>\n",
       "      <td>972704.1793</td>\n",
       "    </tr>\n",
       "    <tr>\n",
       "      <th>19</th>\n",
       "      <td>Valle de Mexico</td>\n",
       "      <td>31.00</td>\n",
       "      <td>95.939993</td>\n",
       "      <td>0.866844</td>\n",
       "      <td>2.543544</td>\n",
       "      <td>1.333303</td>\n",
       "      <td>10856.891050</td>\n",
       "      <td>20848057.6900</td>\n",
       "    </tr>\n",
       "    <tr>\n",
       "      <th>21</th>\n",
       "      <td>Celaya</td>\n",
       "      <td>1.61</td>\n",
       "      <td>89.350793</td>\n",
       "      <td>0.857107</td>\n",
       "      <td>4.446439</td>\n",
       "      <td>1.023992</td>\n",
       "      <td>8044.428113</td>\n",
       "      <td>623000.7126</td>\n",
       "    </tr>\n",
       "    <tr>\n",
       "      <th>23</th>\n",
       "      <td>Irapuato</td>\n",
       "      <td>1.11</td>\n",
       "      <td>99.282031</td>\n",
       "      <td>1.000000</td>\n",
       "      <td>7.418034</td>\n",
       "      <td>0.466669</td>\n",
       "      <td>8010.209477</td>\n",
       "      <td>550150.5493</td>\n",
       "    </tr>\n",
       "    <tr>\n",
       "      <th>34</th>\n",
       "      <td>Guadalajara</td>\n",
       "      <td>5.46</td>\n",
       "      <td>32.825935</td>\n",
       "      <td>0.994760</td>\n",
       "      <td>4.401677</td>\n",
       "      <td>1.528756</td>\n",
       "      <td>9128.080683</td>\n",
       "      <td>4614710.4160</td>\n",
       "    </tr>\n",
       "    <tr>\n",
       "      <th>37</th>\n",
       "      <td>Toluca</td>\n",
       "      <td>4.32</td>\n",
       "      <td>55.058674</td>\n",
       "      <td>0.608675</td>\n",
       "      <td>3.035340</td>\n",
       "      <td>0.700000</td>\n",
       "      <td>5499.108157</td>\n",
       "      <td>2074353.4870</td>\n",
       "    </tr>\n",
       "    <tr>\n",
       "      <th>42</th>\n",
       "      <td>Cuernavaca</td>\n",
       "      <td>1.13</td>\n",
       "      <td>203.300064</td>\n",
       "      <td>0.954138</td>\n",
       "      <td>5.248958</td>\n",
       "      <td>0.186698</td>\n",
       "      <td>5300.653295</td>\n",
       "      <td>962252.3736</td>\n",
       "    </tr>\n",
       "    <tr>\n",
       "      <th>45</th>\n",
       "      <td>Oaxaca</td>\n",
       "      <td>1.54</td>\n",
       "      <td>75.119816</td>\n",
       "      <td>0.010631</td>\n",
       "      <td>17.660090</td>\n",
       "      <td>0.537110</td>\n",
       "      <td>4523.197679</td>\n",
       "      <td>635210.7173</td>\n",
       "    </tr>\n",
       "    <tr>\n",
       "      <th>47</th>\n",
       "      <td>Puebla-Tlaxcala</td>\n",
       "      <td>3.55</td>\n",
       "      <td>56.156507</td>\n",
       "      <td>0.993844</td>\n",
       "      <td>3.900561</td>\n",
       "      <td>0.618987</td>\n",
       "      <td>4451.460824</td>\n",
       "      <td>2848670.6410</td>\n",
       "    </tr>\n",
       "    <tr>\n",
       "      <th>56</th>\n",
       "      <td>Culiacan</td>\n",
       "      <td>2.80</td>\n",
       "      <td>178.518826</td>\n",
       "      <td>1.000000</td>\n",
       "      <td>8.417036</td>\n",
       "      <td>0.289686</td>\n",
       "      <td>8130.089028</td>\n",
       "      <td>907938.5251</td>\n",
       "    </tr>\n",
       "    <tr>\n",
       "      <th>72</th>\n",
       "      <td>Xalapa</td>\n",
       "      <td>1.64</td>\n",
       "      <td>89.955324</td>\n",
       "      <td>0.981510</td>\n",
       "      <td>10.622021</td>\n",
       "      <td>0.894635</td>\n",
       "      <td>8408.414280</td>\n",
       "      <td>694709.1420</td>\n",
       "    </tr>\n",
       "    <tr>\n",
       "      <th>73</th>\n",
       "      <td>Poza Rica</td>\n",
       "      <td>1.09</td>\n",
       "      <td>72.236033</td>\n",
       "      <td>0.750059</td>\n",
       "      <td>5.019656</td>\n",
       "      <td>0.593212</td>\n",
       "      <td>8416.948041</td>\n",
       "      <td>526964.0707</td>\n",
       "    </tr>\n",
       "  </tbody>\n",
       "</table>\n",
       "</div>"
      ],
      "text/plain": [
       "             ciudad  mtCO2e     waterpc  goodtrash  fuelpergdp  citygrowth  \\\n",
       "0    Aguascalientes    3.33  103.385094   1.000000    4.187821    1.117441   \n",
       "19  Valle de Mexico   31.00   95.939993   0.866844    2.543544    1.333303   \n",
       "21           Celaya    1.61   89.350793   0.857107    4.446439    1.023992   \n",
       "23         Irapuato    1.11   99.282031   1.000000    7.418034    0.466669   \n",
       "34      Guadalajara    5.46   32.825935   0.994760    4.401677    1.528756   \n",
       "37           Toluca    4.32   55.058674   0.608675    3.035340    0.700000   \n",
       "42       Cuernavaca    1.13  203.300064   0.954138    5.248958    0.186698   \n",
       "45           Oaxaca    1.54   75.119816   0.010631   17.660090    0.537110   \n",
       "47  Puebla-Tlaxcala    3.55   56.156507   0.993844    3.900561    0.618987   \n",
       "56         Culiacan    2.80  178.518826   1.000000    8.417036    0.289686   \n",
       "72           Xalapa    1.64   89.955324   0.981510   10.622021    0.894635   \n",
       "73        Poza Rica    1.09   72.236033   0.750059    5.019656    0.593212   \n",
       "\n",
       "      popdensity     population  \n",
       "0    9562.758974    972704.1793  \n",
       "19  10856.891050  20848057.6900  \n",
       "21   8044.428113    623000.7126  \n",
       "23   8010.209477    550150.5493  \n",
       "34   9128.080683   4614710.4160  \n",
       "37   5499.108157   2074353.4870  \n",
       "42   5300.653295    962252.3736  \n",
       "45   4523.197679    635210.7173  \n",
       "47   4451.460824   2848670.6410  \n",
       "56   8130.089028    907938.5251  \n",
       "72   8408.414280    694709.1420  \n",
       "73   8416.948041    526964.0707  "
      ]
     },
     "execution_count": 48,
     "metadata": {},
     "output_type": "execute_result"
    }
   ],
   "source": [
    "#the column for mtCO2e has some nan values, so we remove them\n",
    "#creating an index that shows where nan values are \n",
    "index = np.isnan(imcoenv.mtCO2e)\n",
    "#resaving df with rows for where we have mtCO2e data \n",
    "final = imcoenv[index == 0]\n",
    "final"
   ]
  },
  {
   "cell_type": "code",
   "execution_count": 55,
   "metadata": {
    "collapsed": true
   },
   "outputs": [],
   "source": [
    "import scipy\n",
    "import sklearn.cluster\n",
    "#from sklearn import mixture\n",
    "#from PIL import Image\n",
    "from scipy.misc import imread\n",
    "from scipy.cluster.vq import kmeans2, vq, whiten, kmeans"
   ]
  },
  {
   "cell_type": "code",
   "execution_count": 60,
   "metadata": {
    "collapsed": false
   },
   "outputs": [
    {
     "data": {
      "text/html": [
       "<div>\n",
       "<table border=\"1\" class=\"dataframe\">\n",
       "  <thead>\n",
       "    <tr style=\"text-align: right;\">\n",
       "      <th></th>\n",
       "      <th>mtCO2e</th>\n",
       "      <th>waterpc</th>\n",
       "      <th>goodtrash</th>\n",
       "      <th>fuelpergdp</th>\n",
       "      <th>citygrowth</th>\n",
       "      <th>popdensity</th>\n",
       "      <th>population</th>\n",
       "    </tr>\n",
       "    <tr>\n",
       "      <th>ciudad</th>\n",
       "      <th></th>\n",
       "      <th></th>\n",
       "      <th></th>\n",
       "      <th></th>\n",
       "      <th></th>\n",
       "      <th></th>\n",
       "      <th></th>\n",
       "    </tr>\n",
       "  </thead>\n",
       "  <tbody>\n",
       "    <tr>\n",
       "      <th>Aguascalientes</th>\n",
       "      <td>3.33</td>\n",
       "      <td>103.385094</td>\n",
       "      <td>1.000000</td>\n",
       "      <td>4.187821</td>\n",
       "      <td>1.117441</td>\n",
       "      <td>9562.758974</td>\n",
       "      <td>972704.1793</td>\n",
       "    </tr>\n",
       "    <tr>\n",
       "      <th>Valle de Mexico</th>\n",
       "      <td>31.00</td>\n",
       "      <td>95.939993</td>\n",
       "      <td>0.866844</td>\n",
       "      <td>2.543544</td>\n",
       "      <td>1.333303</td>\n",
       "      <td>10856.891050</td>\n",
       "      <td>20848057.6900</td>\n",
       "    </tr>\n",
       "    <tr>\n",
       "      <th>Celaya</th>\n",
       "      <td>1.61</td>\n",
       "      <td>89.350793</td>\n",
       "      <td>0.857107</td>\n",
       "      <td>4.446439</td>\n",
       "      <td>1.023992</td>\n",
       "      <td>8044.428113</td>\n",
       "      <td>623000.7126</td>\n",
       "    </tr>\n",
       "    <tr>\n",
       "      <th>Irapuato</th>\n",
       "      <td>1.11</td>\n",
       "      <td>99.282031</td>\n",
       "      <td>1.000000</td>\n",
       "      <td>7.418034</td>\n",
       "      <td>0.466669</td>\n",
       "      <td>8010.209477</td>\n",
       "      <td>550150.5493</td>\n",
       "    </tr>\n",
       "    <tr>\n",
       "      <th>Guadalajara</th>\n",
       "      <td>5.46</td>\n",
       "      <td>32.825935</td>\n",
       "      <td>0.994760</td>\n",
       "      <td>4.401677</td>\n",
       "      <td>1.528756</td>\n",
       "      <td>9128.080683</td>\n",
       "      <td>4614710.4160</td>\n",
       "    </tr>\n",
       "    <tr>\n",
       "      <th>Toluca</th>\n",
       "      <td>4.32</td>\n",
       "      <td>55.058674</td>\n",
       "      <td>0.608675</td>\n",
       "      <td>3.035340</td>\n",
       "      <td>0.700000</td>\n",
       "      <td>5499.108157</td>\n",
       "      <td>2074353.4870</td>\n",
       "    </tr>\n",
       "    <tr>\n",
       "      <th>Cuernavaca</th>\n",
       "      <td>1.13</td>\n",
       "      <td>203.300064</td>\n",
       "      <td>0.954138</td>\n",
       "      <td>5.248958</td>\n",
       "      <td>0.186698</td>\n",
       "      <td>5300.653295</td>\n",
       "      <td>962252.3736</td>\n",
       "    </tr>\n",
       "    <tr>\n",
       "      <th>Oaxaca</th>\n",
       "      <td>1.54</td>\n",
       "      <td>75.119816</td>\n",
       "      <td>0.010631</td>\n",
       "      <td>17.660090</td>\n",
       "      <td>0.537110</td>\n",
       "      <td>4523.197679</td>\n",
       "      <td>635210.7173</td>\n",
       "    </tr>\n",
       "    <tr>\n",
       "      <th>Puebla-Tlaxcala</th>\n",
       "      <td>3.55</td>\n",
       "      <td>56.156507</td>\n",
       "      <td>0.993844</td>\n",
       "      <td>3.900561</td>\n",
       "      <td>0.618987</td>\n",
       "      <td>4451.460824</td>\n",
       "      <td>2848670.6410</td>\n",
       "    </tr>\n",
       "    <tr>\n",
       "      <th>Culiacan</th>\n",
       "      <td>2.80</td>\n",
       "      <td>178.518826</td>\n",
       "      <td>1.000000</td>\n",
       "      <td>8.417036</td>\n",
       "      <td>0.289686</td>\n",
       "      <td>8130.089028</td>\n",
       "      <td>907938.5251</td>\n",
       "    </tr>\n",
       "    <tr>\n",
       "      <th>Xalapa</th>\n",
       "      <td>1.64</td>\n",
       "      <td>89.955324</td>\n",
       "      <td>0.981510</td>\n",
       "      <td>10.622021</td>\n",
       "      <td>0.894635</td>\n",
       "      <td>8408.414280</td>\n",
       "      <td>694709.1420</td>\n",
       "    </tr>\n",
       "    <tr>\n",
       "      <th>Poza Rica</th>\n",
       "      <td>1.09</td>\n",
       "      <td>72.236033</td>\n",
       "      <td>0.750059</td>\n",
       "      <td>5.019656</td>\n",
       "      <td>0.593212</td>\n",
       "      <td>8416.948041</td>\n",
       "      <td>526964.0707</td>\n",
       "    </tr>\n",
       "  </tbody>\n",
       "</table>\n",
       "</div>"
      ],
      "text/plain": [
       "                 mtCO2e     waterpc  goodtrash  fuelpergdp  citygrowth  \\\n",
       "ciudad                                                                   \n",
       "Aguascalientes     3.33  103.385094   1.000000    4.187821    1.117441   \n",
       "Valle de Mexico   31.00   95.939993   0.866844    2.543544    1.333303   \n",
       "Celaya             1.61   89.350793   0.857107    4.446439    1.023992   \n",
       "Irapuato           1.11   99.282031   1.000000    7.418034    0.466669   \n",
       "Guadalajara        5.46   32.825935   0.994760    4.401677    1.528756   \n",
       "Toluca             4.32   55.058674   0.608675    3.035340    0.700000   \n",
       "Cuernavaca         1.13  203.300064   0.954138    5.248958    0.186698   \n",
       "Oaxaca             1.54   75.119816   0.010631   17.660090    0.537110   \n",
       "Puebla-Tlaxcala    3.55   56.156507   0.993844    3.900561    0.618987   \n",
       "Culiacan           2.80  178.518826   1.000000    8.417036    0.289686   \n",
       "Xalapa             1.64   89.955324   0.981510   10.622021    0.894635   \n",
       "Poza Rica          1.09   72.236033   0.750059    5.019656    0.593212   \n",
       "\n",
       "                   popdensity     population  \n",
       "ciudad                                        \n",
       "Aguascalientes    9562.758974    972704.1793  \n",
       "Valle de Mexico  10856.891050  20848057.6900  \n",
       "Celaya            8044.428113    623000.7126  \n",
       "Irapuato          8010.209477    550150.5493  \n",
       "Guadalajara       9128.080683   4614710.4160  \n",
       "Toluca            5499.108157   2074353.4870  \n",
       "Cuernavaca        5300.653295    962252.3736  \n",
       "Oaxaca            4523.197679    635210.7173  \n",
       "Puebla-Tlaxcala   4451.460824   2848670.6410  \n",
       "Culiacan          8130.089028    907938.5251  \n",
       "Xalapa            8408.414280    694709.1420  \n",
       "Poza Rica         8416.948041    526964.0707  "
      ]
     },
     "execution_count": 60,
     "metadata": {},
     "output_type": "execute_result"
    }
   ],
   "source": [
    "final2 = final.set_index(['ciudad'])\n",
    "final2"
   ]
  },
  {
   "cell_type": "code",
   "execution_count": 70,
   "metadata": {
    "collapsed": false
   },
   "outputs": [
    {
     "data": {
      "text/plain": [
       "array([[  3.33000000e+00,   1.03385094e+02,   1.00000000e+00,\n",
       "          4.18782052e+00,   1.11744126e+00,   9.56275897e+03,\n",
       "          9.72704179e+05],\n",
       "       [  3.10000000e+01,   9.59399927e+01,   8.66843976e-01,\n",
       "          2.54354427e+00,   1.33330314e+00,   1.08568911e+04,\n",
       "          2.08480577e+07],\n",
       "       [  1.61000000e+00,   8.93507929e+01,   8.57107213e-01,\n",
       "          4.44643900e+00,   1.02399150e+00,   8.04442811e+03,\n",
       "          6.23000713e+05],\n",
       "       [  1.11000000e+00,   9.92820311e+01,   1.00000000e+00,\n",
       "          7.41803395e+00,   4.66668590e-01,   8.01020948e+03,\n",
       "          5.50150549e+05],\n",
       "       [  5.46000000e+00,   3.28259355e+01,   9.94760081e-01,\n",
       "          4.40167691e+00,   1.52875566e+00,   9.12808068e+03,\n",
       "          4.61471042e+06],\n",
       "       [  4.32000000e+00,   5.50586741e+01,   6.08675397e-01,\n",
       "          3.03534005e+00,   7.00000000e-01,   5.49910816e+03,\n",
       "          2.07435349e+06],\n",
       "       [  1.13000000e+00,   2.03300064e+02,   9.54138102e-01,\n",
       "          5.24895804e+00,   1.86697811e-01,   5.30065330e+03,\n",
       "          9.62252374e+05],\n",
       "       [  1.54000000e+00,   7.51198159e+01,   1.06309760e-02,\n",
       "          1.76600896e+01,   5.37109820e-01,   4.52319768e+03,\n",
       "          6.35210717e+05],\n",
       "       [  3.55000000e+00,   5.61565066e+01,   9.93844345e-01,\n",
       "          3.90056102e+00,   6.18987054e-01,   4.45146082e+03,\n",
       "          2.84867064e+06],\n",
       "       [  2.80000000e+00,   1.78518826e+02,   1.00000000e+00,\n",
       "          8.41703598e+00,   2.89685950e-01,   8.13008903e+03,\n",
       "          9.07938525e+05],\n",
       "       [  1.64000000e+00,   8.99553242e+01,   9.81510387e-01,\n",
       "          1.06220212e+01,   8.94635190e-01,   8.40841428e+03,\n",
       "          6.94709142e+05],\n",
       "       [  1.09000000e+00,   7.22360326e+01,   7.50059326e-01,\n",
       "          5.01965646e+00,   5.93211821e-01,   8.41694804e+03,\n",
       "          5.26964071e+05]])"
      ]
     },
     "execution_count": 70,
     "metadata": {},
     "output_type": "execute_result"
    }
   ],
   "source": [
    "finalcluster = final2.values\n",
    "#print(vcluster)\n",
    "finalcluster"
   ]
  },
  {
   "cell_type": "code",
   "execution_count": 67,
   "metadata": {
    "collapsed": false
   },
   "outputs": [
    {
     "name": "stdout",
     "output_type": "stream",
     "text": [
      "2 clusters labels\n",
      "[0 1 0 0 0 0 0 0 0 0 0 0]\n"
     ]
    }
   ],
   "source": [
    "#clustering with k means, 2 clusters\n",
    "final_2ck = scipy.cluster.vq.kmeans(finalcluster, 2, iter=1)\n",
    "kmlabels2, kmdistances2 = vq(finalcluster, final_2ck[0])\n",
    "print (\"2 clusters labels\")\n",
    "print (kmlabels2)"
   ]
  },
  {
   "cell_type": "code",
   "execution_count": 76,
   "metadata": {
    "collapsed": false
   },
   "outputs": [
    {
     "data": {
      "text/plain": [
       "array([  3.33000000e+00,   1.03385094e+02,   1.00000000e+00,\n",
       "         4.18782052e+00,   1.11744126e+00,   9.56275897e+03,\n",
       "         9.72704179e+05])"
      ]
     },
     "execution_count": 76,
     "metadata": {},
     "output_type": "execute_result"
    }
   ],
   "source": [
    "finalcluster[0]"
   ]
  },
  {
   "cell_type": "code",
   "execution_count": 75,
   "metadata": {
    "collapsed": false
   },
   "outputs": [
    {
     "data": {
      "image/png": "[encoded data removed]",
      "text/plain": [
       "<matplotlib.figure.Figure at 0x11254c050>"
      ]
     },
     "metadata": {},
     "output_type": "display_data"
    }
   ],
   "source": [
    "fig = pl.figure(figsize=(20,20))\n",
    "\n",
    "pl.subplot(2,2,1)\n",
    "for l in range(2):\n",
    "    pl.plot(finalcluster[kmlabels2 == l].T, \n",
    "            color = kelly_colors_hex[l], alpha = 0.2)\n",
    "    pl.plot(finalcluster[0][l].T, color = kelly_colors_hex[l], linewidth = 3) #, label = 'KMeans with 2 Clusters')\n",
    "#pl.xlabel('Cities', fontsize = 15)\n",
    "#pl.ylabel('Water, electricity..', fontsize = 15)\n",
    "#pl.suptitle('City Comparison')"
   ]
  },
  {
   "cell_type": "code",
   "execution_count": null,
   "metadata": {
    "collapsed": true
   },
   "outputs": [],
   "source": []
  }
 ],
 "metadata": {
  "kernelspec": {
   "display_name": "Python 2",
   "language": "python",
   "name": "python2"
  },
  "language_info": {
   "codemirror_mode": {
    "name": "ipython",
    "version": 2
   },
   "file_extension": ".py",
   "mimetype": "text/x-python",
   "name": "python",
   "nbconvert_exporter": "python",
   "pygments_lexer": "ipython2",
   "version": "2.7.10"
  }
 },
 "nbformat": 4,
 "nbformat_minor": 0
}
