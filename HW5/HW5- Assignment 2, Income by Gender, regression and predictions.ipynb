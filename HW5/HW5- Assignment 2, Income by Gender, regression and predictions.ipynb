{
 "cells": [
  {
   "cell_type": "markdown",
   "metadata": {},
   "source": [
    "#GENDER INCOME GAP\n",
    "\n",
    "*You may know that it is estimated that women earn about 78% of men in the same job position. Can we test that on NYC income data? Can we turn that into a prediction? If you get hired at a certain stipend as a man, what should you expect to make as a woman? (or from the point of view of a job employer, perhaps not one with a very strong moral compass, what should I offer a female job candidate, given what I would offer a man for the same job?)\n"
   ]
  },
  {
   "cell_type": "code",
   "execution_count": 14,
   "metadata": {
    "collapsed": false
   },
   "outputs": [
    {
     "name": "stdout",
     "output_type": "stream",
     "text": [
      "Populating the interactive namespace from numpy and matplotlib\n"
     ]
    },
    {
     "name": "stderr",
     "output_type": "stream",
     "text": [
      "WARNING: pylab import has clobbered these variables: ['f']\n",
      "`%matplotlib` prevents importing * from pylab and numpy\n"
     ]
    }
   ],
   "source": [
    "import pandas as pd\n",
    "import sys\n",
    "import os\n",
    "import numpy \n",
    "import pylab as pl\n",
    "import json\n",
    "import os\n",
    "import matplotlib\n",
    "from pandas.tools.plotting import scatter_matrix\n",
    "import statsmodels.api as sm\n",
    "%pylab inline"
   ]
  },
  {
   "cell_type": "code",
   "execution_count": 7,
   "metadata": {
    "collapsed": false
   },
   "outputs": [],
   "source": [
    "#How to import a YouTube video! Cool.\n",
    "#The gender gap(non mandatory viewing)\n",
    "from IPython.display import YouTubeVideo\n",
    "#YouTubeVideo(\"G_ikzQM93W8\")"
   ]
  },
  {
   "cell_type": "code",
   "execution_count": 2,
   "metadata": {
    "collapsed": true
   },
   "outputs": [],
   "source": [
    "url = \"http://cosmo.nyu.edu/~fb55/UI_CUSP_2015/data/\""
   ]
  },
  {
   "cell_type": "code",
   "execution_count": 3,
   "metadata": {
    "collapsed": false
   },
   "outputs": [],
   "source": [
    "#split your data by male and female, by loading data in 2 dictionaries\n",
    "#you could do this with other variables such as race\n",
    "# 08_2 files are male, 08_3 are female, and I am leaving in the lines of code that \n",
    "#read the male files into races\n",
    "\n",
    "allmales={}\n",
    "allfemales={}\n",
    "allmales['all']=pd.read_excel(url+'/pinc08_2_1_1.xls',header=9)#%s/pinc03_2_1_1.xls'%url, header=9)\n",
    "allmales['white']=pd.read_excel(url+'/pinc08_2_1_4.xls', header=9)\n",
    "allmales['black']=pd.read_excel(url+'/pinc08_2_1_6.xls', header=9)\n",
    "allmales['hispanic']=pd.read_excel(url+'/pinc08_2_1_9.xls', header=9)\n",
    "allmales['asian']=pd.read_excel(url+'/pinc08_2_1_8.xls', header=9)\n",
    "\n",
    "#looking at the data, these will be commented out\n",
    "#print allmales['all'].columns"
   ]
  },
  {
   "cell_type": "code",
   "execution_count": 4,
   "metadata": {
    "collapsed": false,
    "scrolled": true
   },
   "outputs": [],
   "source": [
    "#now looking at data for women\n",
    "allf={}\n",
    "allf['all']=pd.read_excel(url+'/pinc08_3_1_1.xls',header=9)#%s/pinc03_2_1_1.xls'%url, header=9)\n",
    "allf['white']=pd.read_excel(url+'/pinc08_3_1_4.xls', header=9)\n",
    "allf['black']=pd.read_excel(url+'/pinc08_3_1_6.xls', header=9)\n",
    "allf['hispanic']=pd.read_excel(url+'/pinc08_3_1_9.xls', header=9)\n",
    "allf['asian']=pd.read_excel(url+'/pinc08_3_1_8.xls', header=9)\n",
    "\n",
    "#looking at the data, these will be commented out\n",
    "#print allf['white'].columns\n"
   ]
  },
  {
   "cell_type": "code",
   "execution_count": 5,
   "metadata": {
    "collapsed": false
   },
   "outputs": [],
   "source": [
    "#scatter_matrix(allf['all'], s = 300, figsize = (16, 16), diagonal = 'kde')\n",
    "#looking at the output of this, I don't quite understand how it is helpful..."
   ]
  },
  {
   "cell_type": "code",
   "execution_count": 6,
   "metadata": {
    "collapsed": false
   },
   "outputs": [
    {
     "name": "stderr",
     "output_type": "stream",
     "text": [
      "/Users/mariaortiz/anaconda/lib/python2.7/site-packages/IPython/kernel/__main__.py:5: SettingWithCopyWarning: \n",
      "A value is trying to be set on a copy of a slice from a DataFrame\n",
      "\n",
      "See the the caveats in the documentation: http://pandas.pydata.org/pandas-docs/stable/indexing.html#indexing-view-versus-copy\n"
     ]
    }
   ],
   "source": [
    "for k in allmales:\n",
    "    nonreal  = allmales[k].applymap(np.isreal)\n",
    "    for c in allmales[k].columns :\n",
    "        if nonreal.sum()[c]>1 and nonreal.sum()[c]<49:\n",
    "            allmales[k][c][~nonreal[c]] = np.float('NaN')\n",
    "            allmales[k][c] = allmales[k][c].astype(float)"
   ]
  },
  {
   "cell_type": "code",
   "execution_count": 7,
   "metadata": {
    "collapsed": false
   },
   "outputs": [],
   "source": [
    "#scattermatrix, see if there are insightfull correlations...\n",
    "#scatter_matrix(allmales['all'], s = 300, figsize = (16, 16), diagonal = 'kde')"
   ]
  },
  {
   "cell_type": "code",
   "execution_count": null,
   "metadata": {
    "collapsed": true
   },
   "outputs": [],
   "source": [
    "#comment on these correlations\n"
   ]
  },
  {
   "cell_type": "code",
   "execution_count": 8,
   "metadata": {
    "collapsed": false
   },
   "outputs": [
    {
     "name": "stderr",
     "output_type": "stream",
     "text": [
      "/Users/mariaortiz/anaconda/lib/python2.7/site-packages/IPython/kernel/__main__.py:6: SettingWithCopyWarning: \n",
      "A value is trying to be set on a copy of a slice from a DataFrame\n",
      "\n",
      "See the the caveats in the documentation: http://pandas.pydata.org/pandas-docs/stable/indexing.html#indexing-view-versus-copy\n"
     ]
    }
   ],
   "source": [
    "#now doing the same for females\n",
    "for f in allf:\n",
    "    nonreal  = allf[f].applymap(np.isreal)\n",
    "    for w in allf[k].columns :\n",
    "        if nonreal.sum()[w]>1 and nonreal.sum()[w]<49:\n",
    "            allf[f][w][~nonreal[w]] = np.float('NaN')\n",
    "            allf[f][w] = allf[f][w].astype(float)\n"
   ]
  },
  {
   "cell_type": "markdown",
   "metadata": {},
   "source": [
    "####Make a plot to see how the male and female income relate to each other. Plot the Total Median Income (from any source of revenue) of females vs the Total Median Income of males by race (one data point per race)\n",
    "also plot the 1-1 line: the diagonal that corresponds to men and women getting the same pay"
   ]
  },
  {
   "cell_type": "code",
   "execution_count": 9,
   "metadata": {
    "collapsed": false
   },
   "outputs": [
    {
     "data": {
      "text/plain": [
       "[<matplotlib.lines.Line2D at 0x10850fd90>]"
      ]
     },
     "execution_count": 9,
     "metadata": {},
     "output_type": "execute_result"
    },
    {
     "data": {
      "image/png": "[encoded data removed]",
      "text/plain": [
       "<matplotlib.figure.Figure at 0x1063646d0>"
      ]
     },
     "metadata": {},
     "output_type": "display_data"
    }
   ],
   "source": [
    "#scatter plot with incomes by race and gender\n",
    "\n",
    "fig = pl.figure() \n",
    "ax = fig.add_subplot(111)\n",
    "\n",
    "ax.scatter(allf['all']['Median income'][1], allmales['all']['Median income'][1], s=50, color='blue', label='All')\n",
    "ax.scatter(allf['white']['Median income'][1], allmales['white']['Median income'][1], s=50, color='green', label='White')\n",
    "ax.scatter(allf['black']['Median income'][1], allmales['black']['Median income'][1], s=50, color='red', label='Black')\n",
    "ax.scatter(allf['hispanic']['Median income'][1], allmales['hispanic']['Median income'][1], s=50, color='yellow', label='Hispanic')\n",
    "ax.scatter(allf['asian']['Median income'][1], allmales['asian']['Median income'][1], s=50, color='black', label='Asian')\n",
    "\n",
    "ax.set_xlim(0, 40000)\n",
    "ax.set_ylim(0, 50000)\n",
    "ax.set_ylabel('Income males')\n",
    "ax.set_xlabel('Income females')\n",
    "ax.set_title('Income comparison by race')\n",
    "ax.legend()\n",
    "\n",
    "#plotting line of equality\n",
    "pl.plot([0,50000], [0,50000])"
   ]
  },
  {
   "cell_type": "code",
   "execution_count": 15,
   "metadata": {
    "collapsed": false
   },
   "outputs": [
    {
     "name": "stdout",
     "output_type": "stream",
     "text": [
      "                            OLS Regression Results                            \n",
      "==============================================================================\n",
      "Dep. Variable:                      y   R-squared:                       0.883\n",
      "Model:                            OLS   Adj. R-squared:                  0.844\n",
      "Method:                 Least Squares   F-statistic:                     22.70\n",
      "Date:                Wed, 14 Oct 2015   Prob (F-statistic):             0.0176\n",
      "Time:                        00:05:38   Log-Likelihood:                -40.948\n",
      "No. Observations:                   5   AIC:                             85.90\n",
      "Df Residuals:                       3   BIC:                             85.12\n",
      "Df Model:                           1                                         \n",
      "Covariance Type:            nonrobust                                         \n",
      "==============================================================================\n",
      "                 coef    std err          t      P>|t|      [95.0% Conf. Int.]\n",
      "------------------------------------------------------------------------------\n",
      "x1             0.3531      0.074      4.764      0.018         0.117     0.589\n",
      "const       9989.8444   2508.397      3.983      0.028      2007.007   1.8e+04\n",
      "==============================================================================\n",
      "Omnibus:                          nan   Durbin-Watson:                   3.258\n",
      "Prob(Omnibus):                    nan   Jarque-Bera (JB):                0.362\n",
      "Skew:                           0.164   Prob(JB):                        0.835\n",
      "Kurtosis:                       1.724   Cond. No.                     1.69e+05\n",
      "==============================================================================\n",
      "\n",
      "Warnings:\n",
      "[1] Standard Errors assume that the covariance matrix of the errors is correctly specified.\n",
      "[2] The condition number is large, 1.69e+05. This might indicate that there are\n",
      "strong multicollinearity or other numerical problems.\n"
     ]
    },
    {
     "name": "stderr",
     "output_type": "stream",
     "text": [
      "/Users/mariaortiz/anaconda/lib/python2.7/site-packages/statsmodels/stats/stattools.py:72: UserWarning: omni_normtest is not valid with less than 8 observations; 5 samples were given.\n",
      "  \"samples were given.\" % int(n))\n"
     ]
    }
   ],
   "source": [
    "#creating x and y arrays for regression\n",
    "maleincomey = [allmales['all']['Median income'][1], allmales['white']['Median income'][1], \n",
    "                allmales['black']['Median income'][1], allmales['hispanic']['Median income'][1], \n",
    "                allmales['asian']['Median income'][1]]  # predictor\n",
    "#print maleincomey\n",
    "\n",
    "femaleincomex = [allf['all']['Median income'][1], allf['white']['Median income'][1], \n",
    "                allf['black']['Median income'][1], allf['hispanic']['Median income'][1], \n",
    "                allf['asian']['Median income'][1]]  # response\n",
    "#print femaleincomex\n",
    "\n",
    "maleincome2 = sm.add_constant(maleincomey, prepend = False)\n",
    "model = sm.OLS(femaleincomex, maleincome2).fit()\n",
    "print model.summary()"
   ]
  },
  {
   "cell_type": "markdown",
   "metadata": {},
   "source": [
    "Looking at the linear regression, the model is telling us female income is 0.35 * Male Income + 9,989.84\n",
    "\n",
    "going off on a bit a tangent here...\n",
    "\n",
    "The r square value tell us how much of the variance of the dependent variable is captured by the model, which in this case is 0.883, aka, A LOT.\n",
    "\n",
    "The P value is less than 0.05 for our female income (x1), so it can be considered significant."
   ]
  },
  {
   "cell_type": "markdown",
   "metadata": {},
   "source": [
    "###Now fit it with a line!\n",
    "\n",
    "*You can use statsmodels, or scipy, numpy, or create your own residual minimization function. if you want to use numpy (and you do not have to!) you can for example use\n",
    "\n",
    "pl.plot(newx,np.poly1d(np.ployfit(x,y,1))(newx)\n",
    "\n",
    "to make and plot the fit in one line (although this way you did not save the parameters so you need to rerun the function to get the slope and intercept ... :-/\n",
    "why not challenge yourself (if you want) and create your own residual minimization function you can minimize it with scipy instead of a nested for loop (which is called 'brute force minimization')\n",
    "\n",
    "from scipy.optimize import minimize\n",
    "def line ().....\n",
    "\n",
    "this would be a function that creates a line given parameters, like we did in class\n",
    "...\n",
    "\n",
    "return y\n",
    "def residuals(data, model, error=None):\n",
    "\n",
    "#you can add errors if you want\n",
    "you want to return the sum of the residuals (difference b/w data and model **2)\n",
    "return residuals\n",
    "\n",
    "you need an initial guess for the parameters, where you start searching. it has to be a single variable, so for 2 parameters make a list of 2 elements. the numbers inside do not have to be 0 and 1 - but choose something not too crazy or your minimization will get lost!\n",
    "p0 = [0,1]\n",
    "result = minimize(residuals, p0, args=(all_males, all_females))\n",
    "in args i put all arguments of the function residuals that are not to be evaluated for the minimization (in this case the data)"
   ]
  },
  {
   "cell_type": "code",
   "execution_count": 22,
   "metadata": {
    "collapsed": false,
    "scrolled": true
   },
   "outputs": [
    {
     "data": {
      "text/plain": [
       "[<matplotlib.lines.Line2D at 0x10ba88350>]"
      ]
     },
     "execution_count": 22,
     "metadata": {},
     "output_type": "execute_result"
    },
    {
     "data": {
      "image/png": "[encoded data removed]",
      "text/plain": [
       "<matplotlib.figure.Figure at 0x10b5deb90>"
      ]
     },
     "metadata": {},
     "output_type": "display_data"
    }
   ],
   "source": [
    "fig = pl.figure() \n",
    "ax = fig.add_subplot(111)\n",
    "\n",
    "ax.scatter(allf['all']['Median income'][1], allmales['all']['Median income'][1], s=50, color='blue', label='All')\n",
    "ax.scatter(allf['white']['Median income'][1], allmales['white']['Median income'][1], s=50, color='green', label='White')\n",
    "ax.scatter(allf['black']['Median income'][1], allmales['black']['Median income'][1], s=50, color='red', label='Black')\n",
    "ax.scatter(allf['hispanic']['Median income'][1], allmales['hispanic']['Median income'][1], s=50, color='yellow', label='Hispanic')\n",
    "ax.scatter(allf['asian']['Median income'][1], allmales['asian']['Median income'][1], s=50, color='black', label='Asian')\n",
    "\n",
    "ax.set_xlim(0, 50000)\n",
    "ax.set_ylim(0, 50000)\n",
    "ax.set_ylabel('Income males')\n",
    "ax.set_xlabel('Income females')\n",
    "ax.set_title('Income comparison by race with OLS Fit Line')\n",
    "ax.legend()\n",
    "\n",
    "#plotting line of equality\n",
    "pl.plot([0,50000], [0,50000])\n",
    "\n",
    "#pl.plot(maleincomey,femaleincomex, 'go')\n",
    "\n",
    "#OLS Regresssion\n",
    "YLR = np.arange(10000, 500000, 1000)\n",
    "#taking values from linear regression summary above\n",
    "XLR = 0.35*YLR + 9989.84\n",
    "pl.plot(XLR, YLR)\n",
    "\n"
   ]
  },
  {
   "cell_type": "markdown",
   "metadata": {},
   "source": [
    "###...It turns out that there is an analytical solution for the OLS regression, which is coded below. (Please try to read the code and understand the formula!)"
   ]
  },
  {
   "cell_type": "code",
   "execution_count": 24,
   "metadata": {
    "collapsed": false
   },
   "outputs": [
    {
     "name": "stdout",
     "output_type": "stream",
     "text": [
      "(0.90000000000000002, 0.037386073468498628)\n",
      "0.338176888526\n",
      "10485.9510732\n"
     ]
    },
    {
     "ename": "TypeError",
     "evalue": "'function' object has no attribute '__getitem__'",
     "output_type": "error",
     "traceback": [
      "\u001b[0;31m---------------------------------------------------------------------------\u001b[0m",
      "\u001b[0;31mTypeError\u001b[0m                                 Traceback (most recent call last)",
      "\u001b[0;32m<ipython-input-24-56348ba66907>\u001b[0m in \u001b[0;36m<module>\u001b[0;34m()\u001b[0m\n\u001b[1;32m     34\u001b[0m \u001b[0;34m\u001b[0m\u001b[0m\n\u001b[1;32m     35\u001b[0m \u001b[0;31m#OLS Anaylical solution\u001b[0m\u001b[0;34m\u001b[0m\u001b[0;34m\u001b[0m\u001b[0m\n\u001b[0;32m---> 36\u001b[0;31m \u001b[0mpl\u001b[0m\u001b[0;34m.\u001b[0m\u001b[0mplot\u001b[0m\u001b[0;34m[\u001b[0m\u001b[0;34m(\u001b[0m\u001b[0;36m0\u001b[0m\u001b[0;34m,\u001b[0m\u001b[0mbeta1\u001b[0m\u001b[0;34m)\u001b[0m\u001b[0;34m,\u001b[0m \u001b[0;34m(\u001b[0m\u001b[0;36m0\u001b[0m\u001b[0;34m,\u001b[0m\u001b[0mbeta2\u001b[0m\u001b[0;34m)\u001b[0m\u001b[0;34m]\u001b[0m \u001b[0;31m#, s=50, color='green')\u001b[0m\u001b[0;34m\u001b[0m\u001b[0m\n\u001b[0m\u001b[1;32m     37\u001b[0m \u001b[0;34m\u001b[0m\u001b[0m\n\u001b[1;32m     38\u001b[0m \u001b[0;31m#ax.set_xlim(0, 40000)\u001b[0m\u001b[0;34m\u001b[0m\u001b[0;34m\u001b[0m\u001b[0m\n",
      "\u001b[0;31mTypeError\u001b[0m: 'function' object has no attribute '__getitem__'"
     ]
    },
    {
     "data": {
      "image/png": "[encoded data removed]",
      "text/plain": [
       "<matplotlib.figure.Figure at 0x10b5ce7d0>"
      ]
     },
     "metadata": {},
     "output_type": "display_data"
    }
   ],
   "source": [
    "#this is the analytical best regression line. it can be proved (ask me about it if you want!)\n",
    "from scipy import stats\n",
    "cor = stats.spearmanr(maleincomey, femaleincomex)\n",
    "print cor\n",
    "beta1 = cor[0]*np.std(femaleincomex)/np.std(maleincomey)\n",
    "print beta1\n",
    "beta2 = np.mean(femaleincomex)-(beta1*np.mean(maleincomey))\n",
    "print beta2\n",
    "\n",
    "fig = pl.figure() \n",
    "ax = fig.add_subplot(111)\n",
    "\n",
    "ax.scatter(allf['all']['Median income'][1], allmales['all']['Median income'][1], s=50, color='blue', label='All')\n",
    "ax.scatter(allf['white']['Median income'][1], allmales['white']['Median income'][1], s=50, color='green', label='White')\n",
    "ax.scatter(allf['black']['Median income'][1], allmales['black']['Median income'][1], s=50, color='red', label='Black')\n",
    "ax.scatter(allf['hispanic']['Median income'][1], allmales['hispanic']['Median income'][1], s=50, color='yellow', label='Hispanic')\n",
    "ax.scatter(allf['asian']['Median income'][1], allmales['asian']['Median income'][1], s=50, color='black', label='Asian')\n",
    "\n",
    "ax.set_xlim(0, 50000)\n",
    "ax.set_ylim(0, 50000)\n",
    "ax.set_ylabel('Income males')\n",
    "ax.set_xlabel('Income females')\n",
    "ax.set_title('Income comparison by race')\n",
    "ax.legend()\n",
    "\n",
    "#plotting line of equality\n",
    "pl.plot([0,50000], [0,50000])\n",
    "\n",
    "#OLS Regresssion\n",
    "YLR = np.arange(10000, 500000, 1000)\n",
    "#taking values from linear regression summary above\n",
    "XLR = 0.35*YLR + 9989.84\n",
    "pl.plot(XLR, YLR)\n",
    "\n",
    "#OLS Anaylical solution\n",
    "pl.plot[(0,beta1), (0,beta2)] #, s=50, color='green')\n",
    "\n",
    "#ax.set_xlim(0, 40000)\n",
    "#ax.set_ylim(0, 50000)\n",
    "#ax.set_ylabel('Income males')\n",
    "#ax.set_xlabel('Income females')\n",
    "#ax.set_title('Plotting a line with analytical regression')\n"
   ]
  },
  {
   "cell_type": "markdown",
   "metadata": {},
   "source": [
    "###and plot the line corresponding to the analytical regression to compare it with the result of your numerical one"
   ]
  },
  {
   "cell_type": "code",
   "execution_count": null,
   "metadata": {
    "collapsed": true
   },
   "outputs": [],
   "source": [
    "#plot here\n"
   ]
  },
  {
   "cell_type": "markdown",
   "metadata": {},
   "source": [
    "###this was done with THE TOTAL MEDIAN INCOME, let's now see if all forms of income lead to a different fit.\n",
    "if you use one data point for source of income (along the 'Median income' column) and fit a line and the line fit is similar then the median income was representative for all forms of income for this analysis.\n",
    "\n",
    "To unravel the data and concatenate them back together in a single array is a little complex (there may be easier way, this is just what i came up with. If you have something better please share!!) here are a few lines of code that should do the trick. I used nu.concatenate to put together arrays (it takes a list of arrays) and np.flatten to make the array 1 dimensional after merging. I also masked the nan values. I used the numpy ma (masled array) package. Every array is associated by this package to a mask array of Bools [True....False...] of the same size. "
   ]
  },
  {
   "cell_type": "code",
   "execution_count": 26,
   "metadata": {
    "collapsed": false
   },
   "outputs": [],
   "source": [
    "all_males=np.ma.array(np.concatenate([allmales['all']['Median income'][:].values,allmales['white']['Median income'][:].values,allmales['black']['Median income'][:].values,allmales['hispanic']['Median income'][:].values,allmales['asian']['Median income'][:].values]).flatten())\n",
    "\n",
    "all_females=np.ma.array(np.concatenate([allf['all']['Median income'][:].values,allf['white']['Median income'][:].values,allf['black']['Median income'][:].values,allf['hispanic']['Median income'][:].values,allf['asian']['Median income'][:].values]).flatten())\n",
    "\n",
    "#I am gonna create the mask int he next line. \n",
    "#the mask is True where either male or female value is Nan. \n",
    "#Notice that True is really just >1, and False really 0. \n",
    "#so i can add the male and female mask and the resulting mask will be \n",
    "#False where both arrays are not Nan, and true otherwise. \n",
    "\n",
    "allmask = [np.isnan(all_males) + np.isnan(all_females)]\n",
    "\n",
    "all_females.mask = allmask\n",
    "all_males.mask = allmask"
   ]
  },
  {
   "cell_type": "code",
   "execution_count": 27,
   "metadata": {
    "collapsed": false
   },
   "outputs": [
    {
     "name": "stdout",
     "output_type": "stream",
     "text": [
      "                            OLS Regression Results                            \n",
      "==============================================================================\n",
      "Dep. Variable:                      y   R-squared:                       0.736\n",
      "Model:                            OLS   Adj. R-squared:                  0.735\n",
      "Method:                 Least Squares   F-statistic:                     677.0\n",
      "Date:                Wed, 14 Oct 2015   Prob (F-statistic):           3.36e-72\n",
      "Time:                        00:13:42   Log-Likelihood:                 23.599\n",
      "No. Observations:                 245   AIC:                            -43.20\n",
      "Df Residuals:                     243   BIC:                            -36.20\n",
      "Df Model:                           1                                         \n",
      "Covariance Type:            nonrobust                                         \n",
      "==============================================================================\n",
      "                 coef    std err          t      P>|t|      [95.0% Conf. Int.]\n",
      "------------------------------------------------------------------------------\n",
      "x1             0.8436      0.032     26.019      0.000         0.780     0.908\n",
      "const          0.1290      0.028      4.605      0.000         0.074     0.184\n",
      "==============================================================================\n",
      "Omnibus:                       65.478   Durbin-Watson:                   2.073\n",
      "Prob(Omnibus):                  0.000   Jarque-Bera (JB):             1705.397\n",
      "Skew:                           0.220   Prob(JB):                         0.00\n",
      "Kurtosis:                      15.918   Cond. No.                         3.75\n",
      "==============================================================================\n",
      "\n",
      "Warnings:\n",
      "[1] Standard Errors assume that the covariance matrix of the errors is correctly specified.\n"
     ]
    }
   ],
   "source": [
    "#fit with OLS\n",
    "all_males2 = sm.add_constant(all_males, prepend = False)\n",
    "model2 = sm.OLS(~np.isnan(all_females), ~np.isnan(all_males2)).fit()\n",
    "print model2.summary()"
   ]
  },
  {
   "cell_type": "code",
   "execution_count": 35,
   "metadata": {
    "collapsed": false
   },
   "outputs": [
    {
     "data": {
      "text/plain": [
       "[<matplotlib.lines.Line2D at 0x10c6a9b10>]"
      ]
     },
     "execution_count": 35,
     "metadata": {},
     "output_type": "execute_result"
    },
    {
     "data": {
      "image/png": "[encoded data removed]",
      "text/plain": [
       "<matplotlib.figure.Figure at 0x10c379210>"
      ]
     },
     "metadata": {},
     "output_type": "display_data"
    }
   ],
   "source": [
    "#plot income by gender with the OLS Line and Analytics Best Regression\n",
    "YLR = np.arange(20000, 48000, 1000)\n",
    "YLR2 = np.arange(0, 50000, 1000)\n",
    "XLR = 0.35*YLR + 9989.84\n",
    "XLR2 = 0.8436*YLR2 + .1290\n",
    "YABR = np.arange(20000, 48000, 1000)\n",
    "XABR = beta2*YABR + beta1\n",
    "\n",
    "fig = pl.figure() \n",
    "ax = fig.add_subplot(111)\n",
    "\n",
    "#ax.scatter(allf['all']['Median income'][1], allmales['all']['Median income'][1], s=50, color='blue', label='All')\n",
    "#ax.scatter(allf['white']['Median income'][1], allmales['white']['Median income'][1], s=50, color='green', label='White')\n",
    "#ax.scatter(allf['black']['Median income'][1], allmales['black']['Median income'][1], s=50, color='red', label='Black')\n",
    "#ax.scatter(allf['hispanic']['Median income'][1], allmales['hispanic']['Median income'][1], s=50, color='yellow', label='Hispanic')\n",
    "#ax.scatter(allf['asian']['Median income'][1], allmales['asian']['Median income'][1], s=50, color='black', label='Asian')\n",
    "\n",
    "ax.set_xlim(0, 50000)\n",
    "ax.set_ylim(0, 50000)\n",
    "ax.set_ylabel('Income males')\n",
    "ax.set_xlabel('Income females')\n",
    "ax.set_title('Income comparison by race')\n",
    "ax.legend()\n",
    "\n",
    "#plotting line of equality\n",
    "pl.plot([0,50000], [0,50000])\n",
    "\n",
    "#Plotting OLS and Analytical Solution \n",
    "\n",
    "#OLS Anaylical solution\n",
    "#pl.plot[(0,beta1), (0,beta2)] #, s=50, color='green')\n",
    "\n",
    "pl.plot(all_males, all_females, 'bo')\n",
    "pl.plot(XLR, YLR, 'k') #OLS Regression\n",
    "pl.plot(YABR, XABR, 'g') #Analytic Best Regression\n",
    "pl.plot(YLR2, XLR2, 'y') #OLS Regression ALL"
   ]
  },
  {
   "cell_type": "code",
   "execution_count": null,
   "metadata": {
    "collapsed": true
   },
   "outputs": [],
   "source": [
    "#is the line fit similar? can you find any high leverage points?"
   ]
  },
  {
   "cell_type": "markdown",
   "metadata": {},
   "source": [
    "###Now pick a stipend, maybe your ideal stipend?\n",
    "and predict what a woman in a position where a man recieves your ideal stipend would make."
   ]
  },
  {
   "cell_type": "code",
   "execution_count": 36,
   "metadata": {
    "collapsed": false
   },
   "outputs": [
    {
     "name": "stdout",
     "output_type": "stream",
     "text": [
      "126540.129\n"
     ]
    }
   ],
   "source": [
    "mystipend = 150000\n",
    "XLR2 = myincome = 0.8436*mystipend + .1290\n",
    "print myincome"
   ]
  },
  {
   "cell_type": "markdown",
   "metadata": {},
   "source": [
    "####Lastly do you have any comments about what these data tell us about race? How you would go about analyzing race differences with these data? (just a few sentences)\n",
    "Not super confident in my plots, but looking at this, White and Asian women make a little more than half of their male counterparts. There is less of a difference for Hispanic and Black.\n",
    "\n",
    "Our median income line fit show a significant difference in earnings for women. \n",
    "\n",
    "My concern with the dataset is that may be a significant part of the population excluded, such as men and women who sacrifice an income to stay at home and provide childcare, etc. Additionally, there may be disparities in this trend between races, so the data needs to be further cleaned."
   ]
  },
  {
   "cell_type": "code",
   "execution_count": null,
   "metadata": {
    "collapsed": true
   },
   "outputs": [],
   "source": [
    "from IPython.display import YouTubeVideo\n",
    "YouTubeVideo(\"dQw4w9WgXcQ\")"
   ]
  }
 ],
 "metadata": {
  "kernelspec": {
   "display_name": "Python 2",
   "language": "python",
   "name": "python2"
  },
  "language_info": {
   "codemirror_mode": {
    "name": "ipython",
    "version": 2
   },
   "file_extension": ".py",
   "mimetype": "text/x-python",
   "name": "python",
   "nbconvert_exporter": "python",
   "pygments_lexer": "ipython2",
   "version": "2.7.10"
  }
 },
 "nbformat": 4,
 "nbformat_minor": 0
}
